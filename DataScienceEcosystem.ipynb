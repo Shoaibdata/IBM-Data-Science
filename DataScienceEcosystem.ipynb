{
 "cells": [
  {
   "cell_type": "markdown",
   "id": "7ebdfe33-3d04-4ef0-a36a-2d6f0c1e3967",
   "metadata": {},
   "source": [
    "# Data Science Tools and Ecosystem"
   ]
  },
  {
   "cell_type": "markdown",
   "id": "7a144911-9468-4844-bca1-be6276d552b6",
   "metadata": {},
   "source": [
    "In this notebook, Data Science Tools and Ecosystem are summarized."
   ]
  },
  {
   "cell_type": "markdown",
   "id": "34cb8f51-d6d4-4103-9e4a-5934903f8826",
   "metadata": {},
   "source": [
    "**Objectives:**\n",
    "- List of Popular Languages for Data Science\n",
    "- Commonly Used Libraries for Data Science\n",
    "- Open Source Tools used for Data Science\n",
    "- Arthimetic Operations in Python"
   ]
  },
  {
   "cell_type": "markdown",
   "id": "ed37bf3a-53a4-4060-994d-32d374af3578",
   "metadata": {},
   "source": [
    "Some of the popular languages that Data Scientists use are:\n",
    "1. Python\n",
    "1. R Programming\n",
    "1. SQL"
   ]
  },
  {
   "cell_type": "markdown",
   "id": "798c3434-bfb4-4f42-b1dc-32918f6515a5",
   "metadata": {},
   "source": [
    "Some of the commonly used libraries used by Data Scientists include:\n",
    "- Pandas\n",
    "- Matplotlib\n",
    "- NumPy\n",
    "- TensorFlow"
   ]
  },
  {
   "cell_type": "markdown",
   "id": "1cb11fa0-3285-4119-9079-9fa4ea2cda82",
   "metadata": {},
   "source": [
    "| Data Science Tools |\n",
    "| ------------------ |\n",
    "| Python |\n",
    "| R Programming |\n",
    "| MySQL |"
   ]
  },
  {
   "cell_type": "markdown",
   "id": "f326c7fd-b8ba-4678-b56a-7a41ceb2442f",
   "metadata": {},
   "source": [
    "### Below are a few examples of evaluating arithmetic expressions in Python"
   ]
  },
  {
   "cell_type": "code",
   "execution_count": 1,
   "id": "17a93060-8d3e-4b99-8926-f22c9cfb5401",
   "metadata": {},
   "outputs": [
    {
     "data": {
      "text/plain": [
       "17"
      ]
     },
     "execution_count": 1,
     "metadata": {},
     "output_type": "execute_result"
    }
   ],
   "source": [
    "#This a simple arithmetic expression to mutiply then add integers\n",
    "(3*4)+5"
   ]
  },
  {
   "cell_type": "code",
   "execution_count": 2,
   "id": "8910a483-55ab-4610-b3da-5626424c2c8d",
   "metadata": {},
   "outputs": [
    {
     "data": {
      "text/plain": [
       "3.3333333333333335"
      ]
     },
     "execution_count": 2,
     "metadata": {},
     "output_type": "execute_result"
    }
   ],
   "source": [
    "#This will convert 200 minutes to hours by diving by 60\n",
    "200/60"
   ]
  },
  {
   "cell_type": "markdown",
   "id": "3a2a6440-c0b8-498e-a3ba-73bd6958f2c0",
   "metadata": {},
   "source": [
    "## Author\n",
    "Shoaib Ahmed Memon"
   ]
  },
  {
   "cell_type": "code",
   "execution_count": null,
   "id": "1e6dfb29-3ac7-4ffe-9058-8e03d7ced290",
   "metadata": {},
   "outputs": [],
   "source": []
  }
 ],
 "metadata": {
  "kernelspec": {
   "display_name": "Python",
   "language": "python",
   "name": "conda-env-python-py"
  },
  "language_info": {
   "codemirror_mode": {
    "name": "ipython",
    "version": 3
   },
   "file_extension": ".py",
   "mimetype": "text/x-python",
   "name": "python",
   "nbconvert_exporter": "python",
   "pygments_lexer": "ipython3",
   "version": "3.7.12"
  }
 },
 "nbformat": 4,
 "nbformat_minor": 5
}
